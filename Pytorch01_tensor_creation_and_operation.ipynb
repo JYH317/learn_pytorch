{
 "cells": [
  {
   "cell_type": "code",
   "execution_count": 69,
   "id": "8f69c621",
   "metadata": {},
   "outputs": [],
   "source": [
    "import torch"
   ]
  },
  {
   "cell_type": "code",
   "execution_count": 70,
   "id": "a374080c",
   "metadata": {},
   "outputs": [],
   "source": [
    "#-----------------从列表中创建一个张量--------------------"
   ]
  },
  {
   "cell_type": "code",
   "execution_count": 71,
   "id": "ac245181",
   "metadata": {},
   "outputs": [
    {
     "data": {
      "text/plain": [
       "list"
      ]
     },
     "execution_count": 71,
     "metadata": {},
     "output_type": "execute_result"
    }
   ],
   "source": [
    "a = [1,2,3.]\n",
    "type(a)"
   ]
  },
  {
   "cell_type": "code",
   "execution_count": 72,
   "id": "08573cbd",
   "metadata": {},
   "outputs": [
    {
     "data": {
      "text/plain": [
       "(tensor([1., 2., 3.]), torch.Tensor, torch.float32)"
      ]
     },
     "execution_count": 72,
     "metadata": {},
     "output_type": "execute_result"
    }
   ],
   "source": [
    "b = torch.tensor(a)\n",
    "b,type(b),b.dtype"
   ]
  },
  {
   "cell_type": "code",
   "execution_count": 73,
   "id": "bf513bb8",
   "metadata": {},
   "outputs": [],
   "source": [
    "#----------------从numpy数组中创建一个张量---------------------"
   ]
  },
  {
   "cell_type": "code",
   "execution_count": 74,
   "id": "a2b0e42f",
   "metadata": {},
   "outputs": [
    {
     "data": {
      "text/plain": [
       "1.980114824932926"
      ]
     },
     "execution_count": 74,
     "metadata": {},
     "output_type": "execute_result"
    }
   ],
   "source": [
    "import numpy as np\n",
    "np.random.normal(2)"
   ]
  },
  {
   "cell_type": "code",
   "execution_count": 75,
   "id": "7a65bfb6",
   "metadata": {},
   "outputs": [
    {
     "data": {
      "text/plain": [
       "(array([1.83103621, 1.77690734]), numpy.ndarray)"
      ]
     },
     "execution_count": 75,
     "metadata": {},
     "output_type": "execute_result"
    }
   ],
   "source": [
    "a = np.random.normal((2,3))\n",
    "a,type(a)"
   ]
  },
  {
   "cell_type": "code",
   "execution_count": 76,
   "id": "ada534c0",
   "metadata": {},
   "outputs": [
    {
     "data": {
      "text/plain": [
       "tensor([1.8310, 1.7769], dtype=torch.float64)"
      ]
     },
     "execution_count": 76,
     "metadata": {},
     "output_type": "execute_result"
    }
   ],
   "source": [
    "torch.tensor(a) #默认为float64 或 int64"
   ]
  },
  {
   "cell_type": "code",
   "execution_count": 77,
   "id": "4a89a639",
   "metadata": {},
   "outputs": [],
   "source": [
    "#----------------生成与原有张量形状相同的张量---------------------"
   ]
  },
  {
   "cell_type": "code",
   "execution_count": 78,
   "id": "21cc5901",
   "metadata": {},
   "outputs": [
    {
     "data": {
      "text/plain": [
       "tensor([1.8310, 1.7769], dtype=torch.float64)"
      ]
     },
     "execution_count": 78,
     "metadata": {},
     "output_type": "execute_result"
    }
   ],
   "source": [
    "b = torch.tensor(a)\n",
    "b"
   ]
  },
  {
   "cell_type": "code",
   "execution_count": 79,
   "id": "3a0916c0",
   "metadata": {},
   "outputs": [
    {
     "data": {
      "text/plain": [
       "(tensor([1., 1.], dtype=torch.float64),\n",
       " tensor([0., 0.], dtype=torch.float64),\n",
       " tensor([0.0795, 0.0099], dtype=torch.float64))"
      ]
     },
     "execution_count": 79,
     "metadata": {},
     "output_type": "execute_result"
    }
   ],
   "source": [
    "c = torch.ones_like(b) #生成一个和b形状一样的全1张量\n",
    "d = torch.zeros_like(b) #生成一个和b形状一样的全0张量 \n",
    "e = torch.rand_like(b) #生成一个和b形状一样的随机张量 \n",
    "c,d,e"
   ]
  },
  {
   "cell_type": "code",
   "execution_count": 80,
   "id": "e39fcce3",
   "metadata": {},
   "outputs": [],
   "source": [
    "#----------------根据形状生成张量---------------------"
   ]
  },
  {
   "cell_type": "code",
   "execution_count": 81,
   "id": "91c3febc",
   "metadata": {},
   "outputs": [
    {
     "data": {
      "text/plain": [
       "(tensor([[0.9025, 0.6986],\n",
       "         [0.7578, 0.8346]]),\n",
       " tensor([[0.2079, 0.0777],\n",
       "         [0.7669, 0.3325]]),\n",
       " tensor([[0.9384, 0.6517],\n",
       "         [0.6239, 0.2918]]),\n",
       " torch.float32)"
      ]
     },
     "execution_count": 81,
     "metadata": {},
     "output_type": "execute_result"
    }
   ],
   "source": [
    "a = torch.rand((2,2))\n",
    "b = torch.rand([2,2])\n",
    "c = torch.rand([2,2,])    #元组，列表或者多逗号都不影响，但是字典{}不行\n",
    "a,b,c,a.dtype      #torch.rand数据类型为float32"
   ]
  },
  {
   "cell_type": "code",
   "execution_count": 82,
   "id": "5838916c",
   "metadata": {},
   "outputs": [
    {
     "data": {
      "text/plain": [
       "(torch.float32, torch.Size([2, 2]), device(type='cpu'))"
      ]
     },
     "execution_count": 82,
     "metadata": {},
     "output_type": "execute_result"
    }
   ],
   "source": [
    "#查看张量的不同属性\n",
    "a.dtype, a.shape, a.device"
   ]
  },
  {
   "cell_type": "code",
   "execution_count": 83,
   "id": "fd3cd788",
   "metadata": {},
   "outputs": [],
   "source": [
    "#----------------关于张量的一系列操作（上百种，详见官网）---------------------"
   ]
  },
  {
   "cell_type": "code",
   "execution_count": 84,
   "id": "2c64efa9",
   "metadata": {},
   "outputs": [
    {
     "data": {
      "text/plain": [
       "False"
      ]
     },
     "execution_count": 84,
     "metadata": {},
     "output_type": "execute_result"
    }
   ],
   "source": [
    "#可以将tensor移动到gpu的cuda上\n",
    "if torch.cuda.is_available():\n",
    "    tensor = tensor.to('cuda')\n",
    "torch.cuda.is_available()"
   ]
  },
  {
   "cell_type": "code",
   "execution_count": 85,
   "id": "1ff1d168",
   "metadata": {},
   "outputs": [
    {
     "data": {
      "text/plain": [
       "True"
      ]
     },
     "execution_count": 85,
     "metadata": {},
     "output_type": "execute_result"
    }
   ],
   "source": [
    "torch.is_tensor(a)"
   ]
  },
  {
   "cell_type": "code",
   "execution_count": 86,
   "id": "79e76d2d",
   "metadata": {},
   "outputs": [
    {
     "data": {
      "text/plain": [
       "(True, False)"
      ]
     },
     "execution_count": 86,
     "metadata": {},
     "output_type": "execute_result"
    }
   ],
   "source": [
    "a = torch.tensor(1.0) #单一元素\n",
    "b = torch.tensor(0)\n",
    "torch.is_nonzero(a),torch.is_nonzero(b)"
   ]
  },
  {
   "cell_type": "code",
   "execution_count": 87,
   "id": "4cde238c",
   "metadata": {},
   "outputs": [
    {
     "data": {
      "text/plain": [
       "(tensor([[0.9384, 0.6517],\n",
       "         [0.6239, 0.2918]]),\n",
       " 4)"
      ]
     },
     "execution_count": 87,
     "metadata": {},
     "output_type": "execute_result"
    }
   ],
   "source": [
    "c,torch.numel(c) #c.shape的几个数字连乘的结果，元素个数"
   ]
  },
  {
   "cell_type": "code",
   "execution_count": 88,
   "id": "0b8e7f05",
   "metadata": {},
   "outputs": [
    {
     "data": {
      "text/plain": [
       "(tensor([[0., 0., 0., 0., 0.],\n",
       "         [0., 0., 0., 0., 0.],\n",
       "         [0., 0., 0., 0., 0.],\n",
       "         [0., 0., 0., 0., 0.],\n",
       "         [0., 0., 0., 0., 0.]]),\n",
       " torch.float32,\n",
       " tensor([[0, 0, 0, 0, 0],\n",
       "         [0, 0, 0, 0, 0],\n",
       "         [0, 0, 0, 0, 0],\n",
       "         [0, 0, 0, 0, 0],\n",
       "         [0, 0, 0, 0, 0]], dtype=torch.int32))"
      ]
     },
     "execution_count": 88,
     "metadata": {},
     "output_type": "execute_result"
    }
   ],
   "source": [
    "torch.zeros(5,5), torch.zeros(5,5).dtype, torch.zeros((5,5),dtype=torch.int32)"
   ]
  },
  {
   "cell_type": "code",
   "execution_count": 89,
   "id": "6e3164ba",
   "metadata": {},
   "outputs": [
    {
     "data": {
      "text/plain": [
       "tensor([[1, 1, 1, 1, 1],\n",
       "        [1, 1, 1, 1, 1],\n",
       "        [1, 1, 1, 1, 1],\n",
       "        [1, 1, 1, 1, 1],\n",
       "        [1, 1, 1, 1, 1]], dtype=torch.int32)"
      ]
     },
     "execution_count": 89,
     "metadata": {},
     "output_type": "execute_result"
    }
   ],
   "source": [
    "a = torch.zeros((5,5),dtype=torch.int32)\n",
    "torch.ones_like(a)"
   ]
  },
  {
   "cell_type": "code",
   "execution_count": 90,
   "id": "b9755941",
   "metadata": {},
   "outputs": [
    {
     "data": {
      "text/plain": [
       "tensor([0, 1, 2, 3, 4])"
      ]
     },
     "execution_count": 90,
     "metadata": {},
     "output_type": "execute_result"
    }
   ],
   "source": [
    "#两个常用的API：range和arange\n",
    "torch.arange(5) #默认start为0，step为1，前闭后开"
   ]
  },
  {
   "cell_type": "code",
   "execution_count": 91,
   "id": "e3e3c6f5",
   "metadata": {},
   "outputs": [
    {
     "data": {
      "text/plain": [
       "tensor([0, 2, 4])"
      ]
     },
     "execution_count": 91,
     "metadata": {},
     "output_type": "execute_result"
    }
   ],
   "source": [
    "torch.arange(0,5,2)"
   ]
  },
  {
   "cell_type": "code",
   "execution_count": 92,
   "id": "f6a817e8",
   "metadata": {},
   "outputs": [
    {
     "name": "stderr",
     "output_type": "stream",
     "text": [
      "D:\\Anaconda3\\envs\\py36\\lib\\site-packages\\ipykernel_launcher.py:2: UserWarning: torch.range is deprecated and will be removed in a future release because its behavior is inconsistent with Python's range builtin. Instead, use torch.arange, which produces values in [start, end).\n",
      "  \n"
     ]
    },
    {
     "data": {
      "text/plain": [
       "(tensor([0., 1., 2., 3., 4., 5.]), torch.float32)"
      ]
     },
     "execution_count": 92,
     "metadata": {},
     "output_type": "execute_result"
    }
   ],
   "source": [
    "#range输出比arange长一位,且arange默认int64，range为float32（range将被弃用）\n",
    "torch.range(0,5), torch.range(0,5).dtype"
   ]
  },
  {
   "cell_type": "code",
   "execution_count": 93,
   "id": "78c309e6",
   "metadata": {},
   "outputs": [
    {
     "name": "stdout",
     "output_type": "stream",
     "text": [
      "epoch: tensor(0)\n",
      "epoch: tensor(1)\n",
      "epoch: tensor(2)\n",
      "epoch: tensor(3)\n",
      "epoch: tensor(4)\n",
      "epoch: tensor(5)\n",
      "epoch: tensor(6)\n",
      "epoch: tensor(7)\n",
      "epoch: tensor(8)\n",
      "epoch: tensor(9)\n"
     ]
    }
   ],
   "source": [
    "#一般情况遍历用arange即可\n",
    "for i in torch.arange(10):\n",
    "    print(\"epoch:\",i)"
   ]
  },
  {
   "cell_type": "code",
   "execution_count": 94,
   "id": "c3e3ae65",
   "metadata": {},
   "outputs": [
    {
     "data": {
      "text/plain": [
       "tensor([[1., 0., 0.],\n",
       "        [0., 1., 0.],\n",
       "        [0., 0., 1.]])"
      ]
     },
     "execution_count": 94,
     "metadata": {},
     "output_type": "execute_result"
    }
   ],
   "source": [
    "torch.eye(3)"
   ]
  },
  {
   "cell_type": "code",
   "execution_count": 95,
   "id": "9c196306",
   "metadata": {},
   "outputs": [
    {
     "data": {
      "text/plain": [
       "tensor([[5, 5],\n",
       "        [5, 5]])"
      ]
     },
     "execution_count": 95,
     "metadata": {},
     "output_type": "execute_result"
    }
   ],
   "source": [
    "torch.full([2,2],5)"
   ]
  },
  {
   "cell_type": "code",
   "execution_count": 96,
   "id": "d9401516",
   "metadata": {},
   "outputs": [
    {
     "data": {
      "text/plain": [
       "(tensor([[0.9081, 0.9073],\n",
       "         [0.1092, 0.0842]]),\n",
       " tensor([[0.8583, 0.2868, 0.4292],\n",
       "         [0.1352, 0.5834, 0.0956]]))"
      ]
     },
     "execution_count": 96,
     "metadata": {},
     "output_type": "execute_result"
    }
   ],
   "source": [
    "#torch.cat可以在dim维度（默认为0）进行拼接\n",
    "a = torch.rand([2,2])\n",
    "b = torch.rand([2,3])\n",
    "a,b"
   ]
  },
  {
   "cell_type": "code",
   "execution_count": 97,
   "id": "51f32c43",
   "metadata": {},
   "outputs": [
    {
     "data": {
      "text/plain": [
       "tensor([[0.9081, 0.9073, 0.8583, 0.2868, 0.4292],\n",
       "        [0.1092, 0.0842, 0.1352, 0.5834, 0.0956]])"
      ]
     },
     "execution_count": 97,
     "metadata": {},
     "output_type": "execute_result"
    }
   ],
   "source": [
    "torch.cat([a,b],dim=1)"
   ]
  },
  {
   "cell_type": "code",
   "execution_count": 98,
   "id": "90e759c0",
   "metadata": {},
   "outputs": [
    {
     "data": {
      "text/plain": [
       "(tensor([[0.8531, 0.8412],\n",
       "         [0.3155, 0.5532]]),\n",
       " tensor([[0.2499, 0.3828],\n",
       "         [0.7245, 0.1661],\n",
       "         [0.6446, 0.4706]]))"
      ]
     },
     "execution_count": 98,
     "metadata": {},
     "output_type": "execute_result"
    }
   ],
   "source": [
    "a = torch.rand([2,2])\n",
    "b = torch.rand([3,2])\n",
    "a,b"
   ]
  },
  {
   "cell_type": "code",
   "execution_count": 99,
   "id": "4c1efaf3",
   "metadata": {},
   "outputs": [
    {
     "data": {
      "text/plain": [
       "tensor([[0.8531, 0.8412],\n",
       "        [0.3155, 0.5532],\n",
       "        [0.2499, 0.3828],\n",
       "        [0.7245, 0.1661],\n",
       "        [0.6446, 0.4706]])"
      ]
     },
     "execution_count": 99,
     "metadata": {},
     "output_type": "execute_result"
    }
   ],
   "source": [
    "torch.cat([a,b],dim=0)"
   ]
  },
  {
   "cell_type": "code",
   "execution_count": null,
   "id": "f6b05afb",
   "metadata": {},
   "outputs": [],
   "source": []
  }
 ],
 "metadata": {
  "kernelspec": {
   "display_name": "Python 3",
   "language": "python",
   "name": "python3"
  },
  "language_info": {
   "codemirror_mode": {
    "name": "ipython",
    "version": 3
   },
   "file_extension": ".py",
   "mimetype": "text/x-python",
   "name": "python",
   "nbconvert_exporter": "python",
   "pygments_lexer": "ipython3",
   "version": "3.6.13"
  }
 },
 "nbformat": 4,
 "nbformat_minor": 5
}
