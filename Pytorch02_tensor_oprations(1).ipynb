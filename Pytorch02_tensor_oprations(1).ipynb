{
 "cells": [
  {
   "cell_type": "code",
   "execution_count": 1,
   "id": "188d2257",
   "metadata": {},
   "outputs": [],
   "source": [
    "import torch"
   ]
  },
  {
   "cell_type": "code",
   "execution_count": 2,
   "id": "6c2de6c3",
   "metadata": {},
   "outputs": [],
   "source": [
    "#----------------------------张量的一些常见操作------------------------------"
   ]
  },
  {
   "cell_type": "code",
   "execution_count": 3,
   "id": "8e66bc28",
   "metadata": {},
   "outputs": [
    {
     "data": {
      "text/plain": [
       "tensor([[0.5157, 0.5043],\n",
       "        [0.1654, 0.0428],\n",
       "        [0.3105, 0.0638]])"
      ]
     },
     "execution_count": 3,
     "metadata": {},
     "output_type": "execute_result"
    }
   ],
   "source": [
    "#torch.trunk可以将一个张量在dim维度（默认为0）上分割成多个张量\n",
    "b = torch.rand([3,2])\n",
    "b"
   ]
  },
  {
   "cell_type": "code",
   "execution_count": 4,
   "id": "ed6f851f",
   "metadata": {},
   "outputs": [
    {
     "data": {
      "text/plain": [
       "(tensor([[0.5157, 0.5043],\n",
       "         [0.1654, 0.0428]]),\n",
       " tensor([[0.3105, 0.0638]]))"
      ]
     },
     "execution_count": 4,
     "metadata": {},
     "output_type": "execute_result"
    }
   ],
   "source": [
    "c,d = torch.chunk(b, chunks=2)\n",
    "c,d"
   ]
  },
  {
   "cell_type": "code",
   "execution_count": 5,
   "id": "20ca44ff",
   "metadata": {},
   "outputs": [
    {
     "data": {
      "text/plain": [
       "(tensor([[0.5157],\n",
       "         [0.1654],\n",
       "         [0.3105]]),\n",
       " tensor([[0.5043],\n",
       "         [0.0428],\n",
       "         [0.0638]]))"
      ]
     },
     "execution_count": 5,
     "metadata": {},
     "output_type": "execute_result"
    }
   ],
   "source": [
    "c,d = torch.chunk(b, chunks=2, dim=1)\n",
    "c,d"
   ]
  },
  {
   "cell_type": "code",
   "execution_count": 6,
   "id": "04cba727",
   "metadata": {},
   "outputs": [
    {
     "data": {
      "text/plain": [
       "(tensor([[0.5157, 0.5043],\n",
       "         [0.1654, 0.0428],\n",
       "         [0.3105, 0.0638]]),\n",
       " tensor([[0.5157, 0.5043, 0.1654],\n",
       "         [0.0428, 0.3105, 0.0638]]),\n",
       " tensor([0.5157, 0.5043, 0.1654, 0.0428, 0.3105, 0.0638]))"
      ]
     },
     "execution_count": 6,
     "metadata": {},
     "output_type": "execute_result"
    }
   ],
   "source": [
    "b, torch.reshape(b,[2,3]), torch.reshape(b,[-1])"
   ]
  },
  {
   "cell_type": "code",
   "execution_count": 7,
   "id": "512e1681",
   "metadata": {},
   "outputs": [
    {
     "data": {
      "text/plain": [
       "(tensor([[ 1,  2,  3,  4,  5],\n",
       "         [ 6,  7,  8,  9, 10]]),\n",
       " tensor([[1, 0, 0, 4, 0],\n",
       "         [0, 2, 0, 0, 0],\n",
       "         [0, 0, 3, 0, 0]]))"
      ]
     },
     "execution_count": 7,
     "metadata": {},
     "output_type": "execute_result"
    }
   ],
   "source": [
    "#torch.scatter: 根据dim和index将src张量中填充到结果张量相应位置中\n",
    "#self[index[i][j][k]][j][k] = src[i][j][k]  # if dim == 0\n",
    "#self[i][index[i][j][k]][k] = src[i][j][k]  # if dim == 1\n",
    "#self[i][j][index[i][j][k]] = src[i][j][k]  # if dim == 2\n",
    "src = torch.arange(1, 11).reshape((2, 5))\n",
    "index = torch.tensor([[0, 1, 2, 0]])\n",
    "src,torch.zeros(3, 5, dtype=src.dtype).scatter_(0, index, src)"
   ]
  },
  {
   "cell_type": "code",
   "execution_count": 8,
   "id": "e355b813",
   "metadata": {},
   "outputs": [
    {
     "data": {
      "text/plain": [
       "(tensor([[ 1,  2,  3,  4,  5],\n",
       "         [ 6,  7,  8,  9, 10]]),\n",
       " tensor([[1, 2, 3, 0, 0],\n",
       "         [6, 7, 0, 0, 8],\n",
       "         [0, 0, 0, 0, 0]]))"
      ]
     },
     "execution_count": 8,
     "metadata": {},
     "output_type": "execute_result"
    }
   ],
   "source": [
    "index = torch.tensor([[0, 1, 2], [0, 1, 4]])\n",
    "src,torch.zeros(3, 5, dtype=src.dtype).scatter_(1, index, src)"
   ]
  },
  {
   "cell_type": "code",
   "execution_count": 9,
   "id": "a799e5cc",
   "metadata": {},
   "outputs": [
    {
     "data": {
      "text/plain": [
       "(tensor([[0, 1],\n",
       "         [2, 3],\n",
       "         [4, 5],\n",
       "         [6, 7],\n",
       "         [8, 9]]),\n",
       " (tensor([[0, 1],\n",
       "          [2, 3]]),\n",
       "  tensor([[4, 5],\n",
       "          [6, 7]]),\n",
       "  tensor([[8, 9]])))"
      ]
     },
     "execution_count": 9,
     "metadata": {},
     "output_type": "execute_result"
    }
   ],
   "source": [
    "#torch.split(tensor, split_size_or_sections, dim=0)，其和trunk不同之处是可以传入列表\n",
    "a = torch.arange(10).reshape(5,2)\n",
    "a,torch.split(a, 2)"
   ]
  },
  {
   "cell_type": "code",
   "execution_count": 10,
   "id": "7a0d8983",
   "metadata": {},
   "outputs": [
    {
     "data": {
      "text/plain": [
       "(tensor([[0, 1]]),\n",
       " tensor([[2, 3],\n",
       "         [4, 5],\n",
       "         [6, 7],\n",
       "         [8, 9]]))"
      ]
     },
     "execution_count": 10,
     "metadata": {},
     "output_type": "execute_result"
    }
   ],
   "source": [
    "torch.split(a, [1,4])"
   ]
  },
  {
   "cell_type": "code",
   "execution_count": 11,
   "id": "f1bfc338",
   "metadata": {},
   "outputs": [
    {
     "data": {
      "text/plain": [
       "(tensor([[0.0269, 0.8336],\n",
       "         [0.8525, 0.6724],\n",
       "         [0.4594, 0.2976]]),\n",
       " torch.Size([3, 2]))"
      ]
     },
     "execution_count": 11,
     "metadata": {},
     "output_type": "execute_result"
    }
   ],
   "source": [
    "# torch.squeeze(input, dim=None, *, out=None) → Tensor:将input所有维度为1的维度移除\n",
    "# When dim is given, a squeeze operation is done only in the given dimension. \n",
    "a = torch.rand([3,2])\n",
    "a,a.shape"
   ]
  },
  {
   "cell_type": "code",
   "execution_count": 12,
   "id": "2d3f1712",
   "metadata": {},
   "outputs": [
    {
     "data": {
      "text/plain": [
       "tensor([[[0.0269, 0.8336]],\n",
       "\n",
       "        [[0.8525, 0.6724]],\n",
       "\n",
       "        [[0.4594, 0.2976]]])"
      ]
     },
     "execution_count": 12,
     "metadata": {},
     "output_type": "execute_result"
    }
   ],
   "source": [
    "torch.reshape(a,[3,1,2])"
   ]
  },
  {
   "cell_type": "code",
   "execution_count": 13,
   "id": "b485d6f8",
   "metadata": {},
   "outputs": [
    {
     "data": {
      "text/plain": [
       "tensor([[0.0269, 0.8336],\n",
       "        [0.8525, 0.6724],\n",
       "        [0.4594, 0.2976]])"
      ]
     },
     "execution_count": 13,
     "metadata": {},
     "output_type": "execute_result"
    }
   ],
   "source": [
    "torch.squeeze(torch.reshape(a,[3,1,2]))"
   ]
  },
  {
   "cell_type": "code",
   "execution_count": 14,
   "id": "0f6c291d",
   "metadata": {},
   "outputs": [
    {
     "data": {
      "text/plain": [
       "tensor([[[[[0.0269]],\n",
       "\n",
       "          [[0.8336]]]],\n",
       "\n",
       "\n",
       "\n",
       "        [[[[0.8525]],\n",
       "\n",
       "          [[0.6724]]]],\n",
       "\n",
       "\n",
       "\n",
       "        [[[[0.4594]],\n",
       "\n",
       "          [[0.2976]]]]])"
      ]
     },
     "execution_count": 14,
     "metadata": {},
     "output_type": "execute_result"
    }
   ],
   "source": [
    "b = torch.reshape(a, [3,1,2,1,1])\n",
    "b"
   ]
  },
  {
   "cell_type": "code",
   "execution_count": 34,
   "id": "1f79fdcd",
   "metadata": {},
   "outputs": [
    {
     "data": {
      "text/plain": [
       "torch.Size([3, 2, 1, 1])"
      ]
     },
     "execution_count": 34,
     "metadata": {},
     "output_type": "execute_result"
    }
   ],
   "source": [
    "torch.squeeze(b,dim=1).shape   # dim不能为元组和列表"
   ]
  },
  {
   "cell_type": "code",
   "execution_count": 38,
   "id": "2feada73",
   "metadata": {},
   "outputs": [
    {
     "data": {
      "text/plain": [
       "(tensor([[0.0269, 0.8336],\n",
       "         [0.8525, 0.6724],\n",
       "         [0.4594, 0.2976]]),\n",
       " tensor([[0.9851, 0.9161],\n",
       "         [0.0157, 0.1180],\n",
       "         [0.2099, 0.2222]]))"
      ]
     },
     "execution_count": 38,
     "metadata": {},
     "output_type": "execute_result"
    }
   ],
   "source": [
    "#torch.stack(tensors, dim=0, *, out=None) → Tensor\n",
    "#Concatenates a sequence of tensors along a new dimension.\n",
    "#All tensors need to be of the same size.\n",
    "b = torch.rand([3,2])\n",
    "a,b"
   ]
  },
  {
   "cell_type": "code",
   "execution_count": 42,
   "id": "23710e60",
   "metadata": {},
   "outputs": [
    {
     "data": {
      "text/plain": [
       "(tensor([[[0.0269, 0.8336],\n",
       "          [0.8525, 0.6724],\n",
       "          [0.4594, 0.2976]],\n",
       " \n",
       "         [[0.9851, 0.9161],\n",
       "          [0.0157, 0.1180],\n",
       "          [0.2099, 0.2222]]]),\n",
       " torch.Size([2, 3, 2]))"
      ]
     },
     "execution_count": 42,
     "metadata": {},
     "output_type": "execute_result"
    }
   ],
   "source": [
    "torch.stack([a,b]),torch.stack([a,b]).shape"
   ]
  },
  {
   "cell_type": "code",
   "execution_count": 45,
   "id": "ad67f197",
   "metadata": {
    "scrolled": true
   },
   "outputs": [
    {
     "data": {
      "text/plain": [
       "(tensor([[[0.0269, 0.8336],\n",
       "          [0.9851, 0.9161]],\n",
       " \n",
       "         [[0.8525, 0.6724],\n",
       "          [0.0157, 0.1180]],\n",
       " \n",
       "         [[0.4594, 0.2976],\n",
       "          [0.2099, 0.2222]]]),\n",
       " torch.Size([3, 2, 2]))"
      ]
     },
     "execution_count": 45,
     "metadata": {},
     "output_type": "execute_result"
    }
   ],
   "source": [
    "torch.stack([a,b], dim=1),torch.stack([a,b], dim=1).shape"
   ]
  },
  {
   "cell_type": "code",
   "execution_count": 46,
   "id": "825f97bb",
   "metadata": {},
   "outputs": [
    {
     "data": {
      "text/plain": [
       "(tensor([[[0.0269, 0.9851],\n",
       "          [0.8336, 0.9161]],\n",
       " \n",
       "         [[0.8525, 0.0157],\n",
       "          [0.6724, 0.1180]],\n",
       " \n",
       "         [[0.4594, 0.2099],\n",
       "          [0.2976, 0.2222]]]),\n",
       " torch.Size([3, 2, 2]))"
      ]
     },
     "execution_count": 46,
     "metadata": {},
     "output_type": "execute_result"
    }
   ],
   "source": [
    "torch.stack([a,b], dim=2),torch.stack([a,b], dim=1).shape"
   ]
  },
  {
   "cell_type": "code",
   "execution_count": null,
   "id": "092544c4",
   "metadata": {},
   "outputs": [],
   "source": []
  }
 ],
 "metadata": {
  "kernelspec": {
   "display_name": "Python 3",
   "language": "python",
   "name": "python3"
  },
  "language_info": {
   "codemirror_mode": {
    "name": "ipython",
    "version": 3
   },
   "file_extension": ".py",
   "mimetype": "text/x-python",
   "name": "python",
   "nbconvert_exporter": "python",
   "pygments_lexer": "ipython3",
   "version": "3.6.13"
  }
 },
 "nbformat": 4,
 "nbformat_minor": 5
}
