{
 "cells": [
  {
   "cell_type": "markdown",
   "id": "b0881c3c",
   "metadata": {},
   "source": [
    "# AUTOMATIC DIFFERENTIATION WITH [TORCH.AUTOGRAD](https://pytorch.org/tutorials/beginner/basics/autogradqs_tutorial.html#automatic-differentiation-with-torch-autograd)"
   ]
  },
  {
   "cell_type": "markdown",
   "id": "62538e9d",
   "metadata": {},
   "source": [
    "When training neural networks, the most frequently used algorithm is **back propagation**. In this algorithm, parameters (model weights) are adjusted according to the **gradient** of the loss function with respect to the given parameter.\n",
    "\n",
    "To compute those gradients, PyTorch has a built-in differentiation engine called **torch.autograd**. It supports automatic computation of gradient for any computational graph.\n",
    "\n",
    "Consider the simplest one-layer neural network, with input ***x***, parameters ***w*** and ***b***, and some loss function. It can be defined in PyTorch in the following manner:"
   ]
  },
  {
   "cell_type": "code",
   "execution_count": 1,
   "id": "87fdf246",
   "metadata": {},
   "outputs": [],
   "source": [
    "import torch\n",
    "\n",
    "x = torch.ones(5)  # input tensor\n",
    "y = torch.zeros(3)  # expected output\n",
    "w = torch.randn(5, 3, requires_grad=True)\n",
    "b = torch.randn(3, requires_grad=True)\n",
    "z = torch.matmul(x, w)+b\n",
    "loss = torch.nn.functional.binary_cross_entropy_with_logits(z, y) # 二分类输入为logits对交叉熵损失"
   ]
  },
  {
   "cell_type": "markdown",
   "id": "56b23519",
   "metadata": {},
   "source": [
    "## Tensors, Functions and Computational graph"
   ]
  },
  {
   "cell_type": "markdown",
   "id": "aa4b06d2",
   "metadata": {},
   "source": [
    "This code defines the following **computational graph**:\n",
    "![](https://pytorch.org/tutorials/_images/comp-graph.png)\n",
    "In this network, ***w*** and ***b*** are **parameters**, which we need to optimize. Thus, we need to be able to compute the gradients of loss function with respect to those variables. In order to do that, we set the **requires_grad** property of those tensors."
   ]
  },
  {
   "cell_type": "markdown",
   "id": "855e64ec",
   "metadata": {},
   "source": [
    "**NOTE**: \n",
    "- You can set the value of **requires_grad** when creating a tensor, or later by using **x.requires_grad_(True)** method."
   ]
  },
  {
   "cell_type": "markdown",
   "id": "df7d28f0",
   "metadata": {},
   "source": [
    "A function that we apply to tensors to construct computational graph is in fact an object of class **Function**. This object knows how to compute the function in the forward direction, and also how to compute its derivative during the ***backward propagation step***. A reference to the backward propagation function is stored in **grad_fn** property of a tensor. You can find more information of **Function** in the [documentation](https://pytorch.org/docs/stable/autograd.html#function)."
   ]
  },
  {
   "cell_type": "code",
   "execution_count": 2,
   "id": "39270243",
   "metadata": {},
   "outputs": [
    {
     "name": "stdout",
     "output_type": "stream",
     "text": [
      "Gradient function for z = <AddBackward0 object at 0x7fc873fb2490>\n",
      "Gradient function for loss = <BinaryCrossEntropyWithLogitsBackward0 object at 0x7fc873fb2ee0>\n"
     ]
    }
   ],
   "source": [
    "print(f\"Gradient function for z = {z.grad_fn}\")\n",
    "print(f\"Gradient function for loss = {loss.grad_fn}\")"
   ]
  },
  {
   "cell_type": "markdown",
   "id": "8b6a9eb8",
   "metadata": {},
   "source": [
    "## Computing Gradients"
   ]
  },
  {
   "cell_type": "markdown",
   "id": "34a32fa4",
   "metadata": {},
   "source": [
    "To optimize weights of parameters in the neural network, we need to compute the derivatives of our loss function with respect to parameters, namely, we need $\\frac{\\partial loss}{\\partial w}$\n",
    "  and $\\frac{\\partial loss}{\\partial b}$ under some fixed values of ***x*** and ***y***. To compute those derivatives, we call **loss.backward()**, and then retrieve the values from **w.grad** and **b.grad**:"
   ]
  },
  {
   "cell_type": "code",
   "execution_count": 3,
   "id": "1a08f229",
   "metadata": {},
   "outputs": [
    {
     "name": "stdout",
     "output_type": "stream",
     "text": [
      "tensor([[0.0859, 0.1106, 0.2762],\n",
      "        [0.0859, 0.1106, 0.2762],\n",
      "        [0.0859, 0.1106, 0.2762],\n",
      "        [0.0859, 0.1106, 0.2762],\n",
      "        [0.0859, 0.1106, 0.2762]])\n",
      "tensor([0.0859, 0.1106, 0.2762])\n"
     ]
    }
   ],
   "source": [
    "loss.backward()\n",
    "print(w.grad)\n",
    "print(b.grad)"
   ]
  },
  {
   "cell_type": "markdown",
   "id": "02788e5e",
   "metadata": {},
   "source": [
    "**NOTE**:\n",
    "- We can only obtain the **grad** properties for the ***leaf nodes*** of the computational graph, which have **requires_grad** property set to **True**. For all other nodes in our graph, gradients will not be available.  \n",
    "- We can only perform gradient calculations using **backward** once on a given graph, for performance reasons. If we need to do several **backward** calls on the same graph, we need to pass **retain_graph=True** to the **backward** call."
   ]
  },
  {
   "cell_type": "markdown",
   "id": "0a12d9b6",
   "metadata": {},
   "source": [
    "## Disabling Gradient Tracking"
   ]
  },
  {
   "cell_type": "markdown",
   "id": "d22d5774",
   "metadata": {},
   "source": [
    "By default, all tensors with **requires_grad=True** are tracking their computational history and support gradient computation. However, there are some cases when we do not need to do that, for example, when we have trained the model and just want to apply it to some input data, i.e. we only want to do forward computations through the network. We can stop tracking computations by surrounding our computation code with **torch.no_grad()** block:"
   ]
  },
  {
   "cell_type": "code",
   "execution_count": 4,
   "id": "9ae06f00",
   "metadata": {},
   "outputs": [
    {
     "name": "stdout",
     "output_type": "stream",
     "text": [
      "True\n",
      "False\n"
     ]
    }
   ],
   "source": [
    "z = torch.matmul(x, w)+b\n",
    "print(z.requires_grad)\n",
    "\n",
    "with torch.no_grad(): # 以下的操作不生成计算图\n",
    "    z = torch.matmul(x, w)+b\n",
    "print(z.requires_grad)"
   ]
  },
  {
   "cell_type": "markdown",
   "id": "78915781",
   "metadata": {},
   "source": [
    "Another way to achieve the same result is to use the **detach()** method on the tensor:"
   ]
  },
  {
   "cell_type": "code",
   "execution_count": 5,
   "id": "dc742048",
   "metadata": {},
   "outputs": [
    {
     "name": "stdout",
     "output_type": "stream",
     "text": [
      "False\n"
     ]
    }
   ],
   "source": [
    "z = torch.matmul(x, w)+b\n",
    "z_det = z.detach() # 复制张量z并从原有计算图上剥离下来，与clone()做好区分\n",
    "print(z_det.requires_grad)"
   ]
  },
  {
   "cell_type": "markdown",
   "id": "a265d916",
   "metadata": {},
   "source": [
    "There are reasons you might want to disable gradient tracking:\n",
    "- To mark some parameters in your neural network as **frozen parameters**. This is a very common scenario for [finetuning a pretrained network](https://pytorch.org/tutorials/beginner/finetuning_torchvision_models_tutorial.html).\n",
    "- To **speed up computations** when you are only doing forward pass, because computations on tensors that do not track gradients would be more efficient."
   ]
  },
  {
   "cell_type": "markdown",
   "id": "a5dac487",
   "metadata": {},
   "source": [
    "## More on Computational Graphs "
   ]
  },
  {
   "cell_type": "markdown",
   "id": "8287824c",
   "metadata": {},
   "source": [
    "Conceptually, autograd keeps a record of data (tensors) and all executed operations (along with the resulting new tensors) in a directed acyclic graph (DAG) consisting of [Function](https://pytorch.org/docs/stable/autograd.html#torch.autograd.Function) objects. In this DAG, leaves are the input tensors, roots are the output tensors. By tracing this graph from roots to leaves, you can automatically compute the gradients using the chain rule."
   ]
  },
  {
   "cell_type": "markdown",
   "id": "a3eaa6d5",
   "metadata": {},
   "source": [
    "In a forward pass, autograd does two things simultaneously:\n",
    "- run the requested operation to compute a resulting tensor.\n",
    "- maintain the operation’s gradient function in the DAG.  "
   ]
  },
  {
   "cell_type": "markdown",
   "id": "d63567f2",
   "metadata": {},
   "source": [
    "The backward pass kicks off when **.backward()** is called on the DAG root. **autograd** then:\n",
    "- computes the gradients from each **.grad_fn**,\n",
    "- accumulates them in the respective tensor’s **.grad** attribute\n",
    "- using the chain rule, propagates all the way to the leaf tensors."
   ]
  },
  {
   "cell_type": "markdown",
   "id": "b2c5fba9",
   "metadata": {},
   "source": [
    "**NOTE**:\n",
    "- ***DAGs are dynamic in PyTorch*** An important thing to note is that the graph is recreated from scratch; after each **.backward()** call, autograd starts populating a new graph. This is exactly what allows you to use control flow statements in your model; you can change the shape, size and operations at every iteration if needed."
   ]
  },
  {
   "cell_type": "markdown",
   "id": "56406246",
   "metadata": {},
   "source": [
    "## Optional Reading: Tensor Gradients and Jacobian Products "
   ]
  },
  {
   "cell_type": "markdown",
   "id": "c3361c68",
   "metadata": {},
   "source": [
    "In many cases, we have a scalar loss function, and we need to compute the gradient with respect to some parameters. However, there are cases when the output function is an arbitrary tensor. In this case, PyTorch allows you to compute so-called ***Jacobian product***, and not the actual gradient.\n",
    "\n",
    "\n",
    "For a vector function $\\vec{y}=f(\\vec{x})$ , where $\\vec{x}=\\langle x_1,\\dots,x_n\\rangle$ and $\\vec{y}=\\langle y_1,\\dots,y_m\\rangle$ , a gradient of $\\vec{y}$  with respect to $\\vec{x}$ is given by Jacobian matrix:\n",
    "\n",
    "$$J=\\left(\\begin{array}{ccc} \\frac{\\partial y_{1}}{\\partial x_{1}} & \\cdots & \\frac{\\partial y_{1}}{\\partial x_{n}}\\\\ \\vdots & \\ddots & \\vdots\\\\ \\frac{\\partial y_{m}}{\\partial x_{1}} & \\cdots & \\frac{\\partial y_{m}}{\\partial x_{n}} \\end{array}\\right)$$\n",
    "Instead of computing the Jacobian matrix itself, PyTorch allows you to compute **Jacobian Product** $v^T\\cdot J$\n",
    " for a given input vector $v=(v_1 \\dots v_m)$.  This is achieved by calling **backward** with ***v*** as an argument. The size of vv should be the same as the size of the original tensor, with respect to which we want to compute the product:\n",
    "\n"
   ]
  },
  {
   "cell_type": "code",
   "execution_count": 6,
   "id": "87ab745d",
   "metadata": {},
   "outputs": [
    {
     "name": "stdout",
     "output_type": "stream",
     "text": [
      "First call\n",
      "tensor([[4., 2., 2., 2., 2.],\n",
      "        [2., 4., 2., 2., 2.],\n",
      "        [2., 2., 4., 2., 2.],\n",
      "        [2., 2., 2., 4., 2.],\n",
      "        [2., 2., 2., 2., 4.]])\n",
      "\n",
      "Second call\n",
      "tensor([[8., 4., 4., 4., 4.],\n",
      "        [4., 8., 4., 4., 4.],\n",
      "        [4., 4., 8., 4., 4.],\n",
      "        [4., 4., 4., 8., 4.],\n",
      "        [4., 4., 4., 4., 8.]])\n",
      "\n",
      "Call after zeroing gradients\n",
      "tensor([[4., 2., 2., 2., 2.],\n",
      "        [2., 4., 2., 2., 2.],\n",
      "        [2., 2., 4., 2., 2.],\n",
      "        [2., 2., 2., 4., 2.],\n",
      "        [2., 2., 2., 2., 4.]])\n"
     ]
    }
   ],
   "source": [
    "inp = torch.eye(5, requires_grad=True)\n",
    "out = (inp+1).pow(2)   # shape为5*5\n",
    "out.backward(torch.ones_like(inp), retain_graph=True)   # 这里的torch.ones_like()生成对正是上文中v，正常情况下都使用全1的tensor\n",
    "print(f\"First call\\n{inp.grad}\")\n",
    "out.backward(torch.ones_like(inp), retain_graph=True)\n",
    "print(f\"\\nSecond call\\n{inp.grad}\")\n",
    "inp.grad.zero_()\n",
    "out.backward(torch.ones_like(inp), retain_graph=True)\n",
    "print(f\"\\nCall after zeroing gradients\\n{inp.grad}\")"
   ]
  }
 ],
 "metadata": {
  "kernelspec": {
   "display_name": "Python 3 (ipykernel)",
   "language": "python",
   "name": "python3"
  },
  "language_info": {
   "codemirror_mode": {
    "name": "ipython",
    "version": 3
   },
   "file_extension": ".py",
   "mimetype": "text/x-python",
   "name": "python",
   "nbconvert_exporter": "python",
   "pygments_lexer": "ipython3",
   "version": "3.8.12"
  }
 },
 "nbformat": 4,
 "nbformat_minor": 5
}
