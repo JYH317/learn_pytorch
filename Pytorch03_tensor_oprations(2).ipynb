{
 "cells": [
  {
   "cell_type": "code",
   "execution_count": 1,
   "id": "e1ef6d13",
   "metadata": {},
   "outputs": [],
   "source": [
    "import torch"
   ]
  },
  {
   "cell_type": "markdown",
   "id": "4bdfe14c",
   "metadata": {},
   "source": [
    "***torch.take(input, index) → Tensor***  \n",
    "Returns a new tensor with the elements of input at the given indices. The input tensor is treated as if it were viewed as a 1-D tensor. The result takes the same shape as the indices.\n"
   ]
  },
  {
   "cell_type": "code",
   "execution_count": 2,
   "id": "134c9069",
   "metadata": {
    "scrolled": true
   },
   "outputs": [
    {
     "data": {
      "text/plain": [
       "tensor([4, 5, 8])"
      ]
     },
     "execution_count": 2,
     "metadata": {},
     "output_type": "execute_result"
    }
   ],
   "source": [
    "src = torch.tensor([[4, 3, 5],\n",
    "                    [6, 7, 8]])\n",
    "torch.take(src, torch.tensor([0, 2, 5]))"
   ]
  },
  {
   "cell_type": "markdown",
   "id": "452078cb",
   "metadata": {},
   "source": [
    "***torch.tile(input, dims) → Tensor***  \n",
    "Constructs a tensor by repeating the elements of input. The dims argument specifies the number of repetitions in each dimension.\n",
    "\n",
    "- If dims specifies fewer dimensions than input has, then ones are prepended to dims until all dimensions are specified. For example, if input has shape (8, 6, 4, 2) and dims is (2, 2), then dims is treated as (1, 1, 2, 2).\n",
    "\n",
    "- Analogously, if input has fewer dimensions than dims specifies, then input is treated as if it were unsqueezed at dimension zero until it has as many dimensions as dims specifies. For example, if input has shape (4, 2) and dims is (3, 3, 2, 2), then input is treated as if it had the shape (1, 1, 4, 2)."
   ]
  },
  {
   "cell_type": "code",
   "execution_count": 3,
   "id": "73faca5b",
   "metadata": {
    "scrolled": true
   },
   "outputs": [
    {
     "name": "stdout",
     "output_type": "stream",
     "text": [
      "tensor([1, 2, 3, 1, 2, 3])\n",
      "tensor([[1, 2, 1, 2],\n",
      "        [3, 4, 3, 4]])\n"
     ]
    },
    {
     "data": {
      "text/plain": [
       "tensor([[1, 2, 1, 2],\n",
       "        [3, 4, 3, 4],\n",
       "        [1, 2, 1, 2],\n",
       "        [3, 4, 3, 4]])"
      ]
     },
     "execution_count": 3,
     "metadata": {},
     "output_type": "execute_result"
    }
   ],
   "source": [
    "x = torch.tensor([1, 2, 3])\n",
    "print(x.tile((2,))) #逗号可不用\n",
    "y = torch.tensor([[1, 2], [3, 4]])\n",
    "print(torch.tile(y, (2,))) #逗号必须有，当需要ints但只想输入int,自带填充为（1,2）\n",
    "torch.tile(y, (2, 2))"
   ]
  },
  {
   "cell_type": "code",
   "execution_count": 4,
   "id": "fd3f6295",
   "metadata": {},
   "outputs": [
    {
     "name": "stdout",
     "output_type": "stream",
     "text": [
      "tensor([[0.9228, 0.0161, 0.6526],\n",
      "        [0.7565, 0.5744, 0.6347],\n",
      "        [0.1929, 0.1008, 0.2746],\n",
      "        [0.9741, 0.1085, 0.5771],\n",
      "        [0.9228, 0.0161, 0.6526],\n",
      "        [0.7565, 0.5744, 0.6347],\n",
      "        [0.1929, 0.1008, 0.2746],\n",
      "        [0.9741, 0.1085, 0.5771]])\n"
     ]
    },
    {
     "data": {
      "text/plain": [
       "tensor([[0.9228, 0.0161, 0.6526, 0.9228, 0.0161, 0.6526, 0.9228, 0.0161, 0.6526],\n",
       "        [0.7565, 0.5744, 0.6347, 0.7565, 0.5744, 0.6347, 0.7565, 0.5744, 0.6347],\n",
       "        [0.1929, 0.1008, 0.2746, 0.1929, 0.1008, 0.2746, 0.1929, 0.1008, 0.2746],\n",
       "        [0.9741, 0.1085, 0.5771, 0.9741, 0.1085, 0.5771, 0.9741, 0.1085, 0.5771]])"
      ]
     },
     "execution_count": 4,
     "metadata": {},
     "output_type": "execute_result"
    }
   ],
   "source": [
    "a = torch.rand(4,3)\n",
    "a_tile = torch.tile(a, [2,1])  # 行复制两份，列不变\n",
    "print(a_tile)\n",
    "a_tile = torch.tile(a, [1,3]) # 列复制三次\n",
    "a_tile"
   ]
  },
  {
   "cell_type": "markdown",
   "id": "871fbcd2",
   "metadata": {},
   "source": [
    "***torch.transpose(input, dim0, dim1) → Tensor***  \n",
    "Returns a tensor that is a transposed version of input. The given dimensions dim0 and dim1 are swapped.  \n",
    "The resulting out tensor shares its underlying storage with the input tensor, so changing the content of one would change the content of the other."
   ]
  },
  {
   "cell_type": "code",
   "execution_count": 5,
   "id": "be38f65a",
   "metadata": {},
   "outputs": [
    {
     "name": "stdout",
     "output_type": "stream",
     "text": [
      "torch.Size([4, 3])\n"
     ]
    },
    {
     "data": {
      "text/plain": [
       "(tensor([[0.9228, 0.7565, 0.1929, 0.9741],\n",
       "         [0.0161, 0.5744, 0.1008, 0.1085],\n",
       "         [0.6526, 0.6347, 0.2746, 0.5771]]),\n",
       " torch.Size([3, 4]))"
      ]
     },
     "execution_count": 5,
     "metadata": {},
     "output_type": "execute_result"
    }
   ],
   "source": [
    "print(a.shape)\n",
    "b = torch.transpose(a, 1, 0)  # 1,0顺序对结果无影响\n",
    "b, b.shape"
   ]
  },
  {
   "cell_type": "markdown",
   "id": "a6f7bd77",
   "metadata": {},
   "source": [
    "***torch.unbind(input, dim=0) → seq***  \n",
    "Removes a tensor dimension.  \n",
    "Returns a tuple of all slices along a given dimension, already without it."
   ]
  },
  {
   "cell_type": "code",
   "execution_count": 6,
   "id": "cee370fb",
   "metadata": {},
   "outputs": [
    {
     "data": {
      "text/plain": [
       "(tensor([1, 2, 3]), tensor([4, 5, 6]), tensor([7, 8, 9]))"
      ]
     },
     "execution_count": 6,
     "metadata": {},
     "output_type": "execute_result"
    }
   ],
   "source": [
    "torch.unbind(torch.tensor([[1, 2, 3],  #默认按dim=0拆开\n",
    "                           [4, 5, 6],\n",
    "                           [7, 8, 9]]))"
   ]
  },
  {
   "cell_type": "code",
   "execution_count": 7,
   "id": "1f50454b",
   "metadata": {},
   "outputs": [
    {
     "data": {
      "text/plain": [
       "(tensor([0.9228, 0.0161, 0.6526]),\n",
       " tensor([0.7565, 0.5744, 0.6347]),\n",
       " tensor([0.1929, 0.1008, 0.2746]),\n",
       " tensor([0.9741, 0.1085, 0.5771]))"
      ]
     },
     "execution_count": 7,
     "metadata": {},
     "output_type": "execute_result"
    }
   ],
   "source": [
    "torch.unbind(a, dim=0) "
   ]
  },
  {
   "cell_type": "code",
   "execution_count": 8,
   "id": "579388e6",
   "metadata": {},
   "outputs": [
    {
     "data": {
      "text/plain": [
       "(tensor([0.9228, 0.7565, 0.1929, 0.9741]),\n",
       " tensor([0.0161, 0.5744, 0.1008, 0.1085]),\n",
       " tensor([0.6526, 0.6347, 0.2746, 0.5771]))"
      ]
     },
     "execution_count": 8,
     "metadata": {},
     "output_type": "execute_result"
    }
   ],
   "source": [
    "torch.unbind(a, dim=1) #按列拆开"
   ]
  },
  {
   "cell_type": "code",
   "execution_count": 9,
   "id": "b3b8238f",
   "metadata": {},
   "outputs": [
    {
     "data": {
      "text/plain": [
       "tensor([[[0.6670, 0.5995, 0.1082, 0.4240],\n",
       "         [0.6096, 0.5035, 0.2299, 0.7610],\n",
       "         [0.7912, 0.1218, 0.7202, 0.6910]],\n",
       "\n",
       "        [[0.2482, 0.7953, 0.9644, 0.7697],\n",
       "         [0.7763, 0.5768, 0.3460, 0.5184],\n",
       "         [0.3196, 0.4814, 0.5056, 0.4427]]])"
      ]
     },
     "execution_count": 9,
     "metadata": {},
     "output_type": "execute_result"
    }
   ],
   "source": [
    "a = torch.rand(2,3,4)\n",
    "a"
   ]
  },
  {
   "cell_type": "code",
   "execution_count": 10,
   "id": "08bd91f2",
   "metadata": {},
   "outputs": [
    {
     "data": {
      "text/plain": [
       "(tensor([[0.6670, 0.5995, 0.1082, 0.4240],\n",
       "         [0.6096, 0.5035, 0.2299, 0.7610],\n",
       "         [0.7912, 0.1218, 0.7202, 0.6910]]),\n",
       " tensor([[0.2482, 0.7953, 0.9644, 0.7697],\n",
       "         [0.7763, 0.5768, 0.3460, 0.5184],\n",
       "         [0.3196, 0.4814, 0.5056, 0.4427]]))"
      ]
     },
     "execution_count": 10,
     "metadata": {},
     "output_type": "execute_result"
    }
   ],
   "source": [
    "torch.unbind(a)"
   ]
  },
  {
   "cell_type": "code",
   "execution_count": 11,
   "id": "d05d979d",
   "metadata": {},
   "outputs": [
    {
     "data": {
      "text/plain": [
       "((tensor([[0.6670, 0.5995, 0.1082, 0.4240],\n",
       "          [0.2482, 0.7953, 0.9644, 0.7697]]),\n",
       "  tensor([[0.6096, 0.5035, 0.2299, 0.7610],\n",
       "          [0.7763, 0.5768, 0.3460, 0.5184]]),\n",
       "  tensor([[0.7912, 0.1218, 0.7202, 0.6910],\n",
       "          [0.3196, 0.4814, 0.5056, 0.4427]])),\n",
       " (tensor([[0.6670, 0.6096, 0.7912],\n",
       "          [0.2482, 0.7763, 0.3196]]),\n",
       "  tensor([[0.5995, 0.5035, 0.1218],\n",
       "          [0.7953, 0.5768, 0.4814]]),\n",
       "  tensor([[0.1082, 0.2299, 0.7202],\n",
       "          [0.9644, 0.3460, 0.5056]]),\n",
       "  tensor([[0.4240, 0.7610, 0.6910],\n",
       "          [0.7697, 0.5184, 0.4427]])))"
      ]
     },
     "execution_count": 11,
     "metadata": {},
     "output_type": "execute_result"
    }
   ],
   "source": [
    "torch.unbind(a, dim=1),torch.unbind(a, dim=2)"
   ]
  },
  {
   "cell_type": "markdown",
   "id": "1f698059",
   "metadata": {},
   "source": [
    "***torch.unsqueeze(input, dim) → Tensor***  \n",
    "Returns a new tensor with a dimension of size one inserted at the specified position.  \n",
    "The returned tensor shares the same underlying data with this tensor.  \n",
    "- A dim value within the range [-input.dim() - 1, input.dim() + 1) can be used. Negative dim will correspond to unsqueeze() applied at dim = dim + input.dim() + 1."
   ]
  },
  {
   "cell_type": "code",
   "execution_count": 12,
   "id": "5f068a93",
   "metadata": {},
   "outputs": [
    {
     "name": "stdout",
     "output_type": "stream",
     "text": [
      "tensor([[1, 2, 3, 4]])\n"
     ]
    },
    {
     "data": {
      "text/plain": [
       "tensor([[1],\n",
       "        [2],\n",
       "        [3],\n",
       "        [4]])"
      ]
     },
     "execution_count": 12,
     "metadata": {},
     "output_type": "execute_result"
    }
   ],
   "source": [
    "x = torch.tensor([1, 2, 3, 4]) # shape=4\n",
    "print(torch.unsqueeze(x, 0))   # shape=(1,4)\n",
    "torch.unsqueeze(x, 1)          # shape=(4,1)"
   ]
  },
  {
   "cell_type": "code",
   "execution_count": 13,
   "id": "ca82e1c4",
   "metadata": {},
   "outputs": [
    {
     "data": {
      "text/plain": [
       "torch.Size([2, 3, 4])"
      ]
     },
     "execution_count": 13,
     "metadata": {},
     "output_type": "execute_result"
    }
   ],
   "source": [
    "a.shape"
   ]
  },
  {
   "cell_type": "code",
   "execution_count": 14,
   "id": "74831fe4",
   "metadata": {},
   "outputs": [
    {
     "data": {
      "text/plain": [
       "torch.Size([1, 2, 3, 4])"
      ]
     },
     "execution_count": 14,
     "metadata": {},
     "output_type": "execute_result"
    }
   ],
   "source": [
    "torch.unsqueeze(a, dim=0).shape"
   ]
  },
  {
   "cell_type": "code",
   "execution_count": 15,
   "id": "4330c19a",
   "metadata": {},
   "outputs": [
    {
     "data": {
      "text/plain": [
       "torch.Size([2, 1, 3, 4])"
      ]
     },
     "execution_count": 15,
     "metadata": {},
     "output_type": "execute_result"
    }
   ],
   "source": [
    "torch.unsqueeze(a, dim=1).shape"
   ]
  },
  {
   "cell_type": "code",
   "execution_count": 16,
   "id": "de6eab87",
   "metadata": {},
   "outputs": [
    {
     "data": {
      "text/plain": [
       "torch.Size([2, 3, 4, 1])"
      ]
     },
     "execution_count": 16,
     "metadata": {},
     "output_type": "execute_result"
    }
   ],
   "source": [
    "torch.unsqueeze(a, dim=-1).shape"
   ]
  },
  {
   "cell_type": "markdown",
   "id": "49a2bb69",
   "metadata": {},
   "source": [
    "***torch.where(condition, x, y) → Tensor***  \n",
    "Return a tensor of elements selected from either x or y, depending on condition.  \n",
    "The operation is defined as:  \n",
    "$$\\text{out}_i = \\begin{cases} \\text{x}_i & \\text{if } \\text{condition}_i \\\\ \\text{y}_i & \\text{otherwise} \\\\ \\end{cases}$$\n",
    "- The tensors condition, x, y must be broadcastable.\n",
    "- Currently valid scalar and tensor combination are 1. Scalar of floating dtype and torch.double 2. Scalar of integral dtype and torch.long 3. Scalar of complex dtype and torch.complex128\n",
    "\n"
   ]
  },
  {
   "cell_type": "code",
   "execution_count": 17,
   "id": "b382a075",
   "metadata": {},
   "outputs": [
    {
     "name": "stdout",
     "output_type": "stream",
     "text": [
      "tensor([[-0.8494,  0.8418],\n",
      "        [-0.8854,  0.9635],\n",
      "        [-1.0736,  0.0103]])\n"
     ]
    },
    {
     "data": {
      "text/plain": [
       "tensor([[1.0000, 0.8418],\n",
       "        [1.0000, 0.9635],\n",
       "        [1.0000, 0.0103]])"
      ]
     },
     "execution_count": 17,
     "metadata": {},
     "output_type": "execute_result"
    }
   ],
   "source": [
    "x = torch.randn(3, 2)\n",
    "y = torch.ones(3, 2)\n",
    "print(x)\n",
    "torch.where(x > 0, x, y)  #小于0的数用1填充\n"
   ]
  },
  {
   "cell_type": "code",
   "execution_count": 18,
   "id": "df0db86d",
   "metadata": {},
   "outputs": [
    {
     "name": "stdout",
     "output_type": "stream",
     "text": [
      "tensor([[-0.5519,  1.4211],\n",
      "        [-1.5213, -0.2387]], dtype=torch.float64)\n"
     ]
    },
    {
     "data": {
      "text/plain": [
       "tensor([[0.0000, 1.4211],\n",
       "        [0.0000, 0.0000]], dtype=torch.float64)"
      ]
     },
     "execution_count": 18,
     "metadata": {},
     "output_type": "execute_result"
    }
   ],
   "source": [
    "x = torch.randn(2, 2, dtype=torch.double)\n",
    "print(x)\n",
    "torch.where(x > 0, x, 0.)"
   ]
  },
  {
   "cell_type": "code",
   "execution_count": 19,
   "id": "0f13afce",
   "metadata": {},
   "outputs": [
    {
     "data": {
      "text/plain": [
       "tensor([[0.8896, 0.9667],\n",
       "        [0.1533, 0.3792]])"
      ]
     },
     "execution_count": 19,
     "metadata": {},
     "output_type": "execute_result"
    }
   ],
   "source": [
    "a = torch.rand(2,2)\n",
    "a"
   ]
  },
  {
   "cell_type": "code",
   "execution_count": 20,
   "id": "36b2e420",
   "metadata": {},
   "outputs": [
    {
     "data": {
      "text/plain": [
       "tensor([[0., 0.],\n",
       "        [0., 0.]])"
      ]
     },
     "execution_count": 20,
     "metadata": {},
     "output_type": "execute_result"
    }
   ],
   "source": [
    "b = torch.zeros_like(a)\n",
    "b"
   ]
  },
  {
   "cell_type": "code",
   "execution_count": 21,
   "id": "63c1d692",
   "metadata": {},
   "outputs": [
    {
     "data": {
      "text/plain": [
       "tensor([[0.8896, 0.9667],\n",
       "        [0.0000, 0.0000]])"
      ]
     },
     "execution_count": 21,
     "metadata": {},
     "output_type": "execute_result"
    }
   ],
   "source": [
    "torch.where(a>0.5, a, b)"
   ]
  },
  {
   "cell_type": "code",
   "execution_count": 22,
   "id": "93e2e049",
   "metadata": {},
   "outputs": [
    {
     "data": {
      "text/plain": [
       "tensor([[0.8896, 0.9667],\n",
       "        [0.0000, 0.0000]])"
      ]
     },
     "execution_count": 22,
     "metadata": {},
     "output_type": "execute_result"
    }
   ],
   "source": [
    "torch.where(a>0.5, a, torch.tensor(0,dtype=torch.float)) # 直接用0.为float64,而输入要为float32，要转换一下类型"
   ]
  },
  {
   "cell_type": "markdown",
   "id": "dc6a9e20",
   "metadata": {},
   "source": [
    "***torch.manual_seed(seed)***  \n",
    "Sets the seed for generating random numbers. Returns a torch.Generator object.    \n",
    "- Parameters ：**seed (int)** – The desired seed. Value must be within the inclusive range [-0x8000_0000_0000_0000, 0xffff_ffff_ffff_ffff]. Otherwise, a RuntimeError is raised. Negative inputs are remapped to positive values with the formula 0xffff_ffff_ffff_ffff + seed.  \n",
    "为生成随机数设置一个种子，只要种子固定，每次运行随机数是相同的"
   ]
  },
  {
   "cell_type": "markdown",
   "id": "e82add7b",
   "metadata": {},
   "source": [
    "***torch.bernoulli(input, *, generator=None, out=None) → Tensor***  \n",
    "Draws binary random numbers (0 or 1) from a Bernoulli distribution.  \n",
    "\n",
    "The input tensor should be a tensor containing probabilities to be used for drawing the binary random number. Hence, all values in input have to be in the range: $$0 \\leq \\text{input}_i \\leq 1$$\n",
    "\n",
    "\n",
    "The $\\text{i}^{th}$element of the output tensor will draw a value 1 according to the $\\text{i}^{th}$probability value given in input.\n",
    "\n",
    "$$\\text{out}_{i} \\sim \\mathrm{Bernoulli}(p = \\text{input}_{i})$$\n",
    "\n",
    "- The returned out tensor only has values 0 or 1 and is of the same shape as input.\n",
    "\n",
    "- out can have integral dtype, but input must have floating point dtype."
   ]
  },
  {
   "cell_type": "code",
   "execution_count": 23,
   "id": "a1ee896e",
   "metadata": {},
   "outputs": [
    {
     "data": {
      "text/plain": [
       "tensor([[0.4438, 0.6802, 0.7170],\n",
       "        [0.4582, 0.3329, 0.1412],\n",
       "        [0.9482, 0.5840, 0.8048]])"
      ]
     },
     "execution_count": 23,
     "metadata": {},
     "output_type": "execute_result"
    }
   ],
   "source": [
    "a = torch.empty(3, 3).uniform_(0, 1)  # generate a uniform randomc\n",
    "a"
   ]
  },
  {
   "cell_type": "code",
   "execution_count": 24,
   "id": "3c1b6241",
   "metadata": {},
   "outputs": [
    {
     "data": {
      "text/plain": [
       "tensor([[0., 1., 0.],\n",
       "        [0., 0., 0.],\n",
       "        [1., 0., 1.]])"
      ]
     },
     "execution_count": 24,
     "metadata": {},
     "output_type": "execute_result"
    }
   ],
   "source": [
    " torch.bernoulli(a) # 按照相应概率生成1"
   ]
  },
  {
   "cell_type": "code",
   "execution_count": 25,
   "id": "c9f41c47",
   "metadata": {},
   "outputs": [
    {
     "data": {
      "text/plain": [
       "tensor([[1., 1., 1.],\n",
       "        [1., 1., 1.],\n",
       "        [1., 1., 1.]])"
      ]
     },
     "execution_count": 25,
     "metadata": {},
     "output_type": "execute_result"
    }
   ],
   "source": [
    "a = torch.ones(3, 3) # probability of drawing \"1\" is 1\n",
    "torch.bernoulli(a)"
   ]
  },
  {
   "cell_type": "code",
   "execution_count": 26,
   "id": "2955c48a",
   "metadata": {},
   "outputs": [
    {
     "data": {
      "text/plain": [
       "tensor([[0., 0., 0.],\n",
       "        [0., 0., 0.],\n",
       "        [0., 0., 0.]])"
      ]
     },
     "execution_count": 26,
     "metadata": {},
     "output_type": "execute_result"
    }
   ],
   "source": [
    "a = torch.zeros(3, 3) # probability of drawing \"1\" is 1\n",
    "torch.bernoulli(a)"
   ]
  },
  {
   "cell_type": "markdown",
   "id": "e1fd48a8",
   "metadata": {},
   "source": [
    "***torch.normal(mean, std, *, generator=None, out=None) → Tensor***  \n",
    "Returns a tensor of random numbers drawn from separate normal distributions whose mean and standard deviation are given.  \n",
    "- The **mean** is a tensor with the mean of each output element’s normal distribution\n",
    "- The **std** is a tensor with the standard deviation of each output element’s normal distribution\n",
    "- The shapes of **mean** and **std** don’t need to match, but the total number of elements in each tensor need to be the same.  \n",
    "生成正态分布（高斯分布）的数据"
   ]
  },
  {
   "cell_type": "code",
   "execution_count": 27,
   "id": "fd3c0955",
   "metadata": {},
   "outputs": [
    {
     "data": {
      "text/plain": [
       "tensor([ 2.9494,  1.5823,  3.6664,  4.2745,  4.4848,  6.6257,  6.4806,  7.8453,\n",
       "         8.9944, 10.0682])"
      ]
     },
     "execution_count": 27,
     "metadata": {},
     "output_type": "execute_result"
    }
   ],
   "source": [
    "torch.normal(mean=torch.arange(1., 11.), std=torch.arange(1, 0, -0.1)) # mean和std长度相符，生成每个值由相应mean和std采样得到"
   ]
  },
  {
   "cell_type": "code",
   "execution_count": 28,
   "id": "a16792b4",
   "metadata": {},
   "outputs": [
    {
     "data": {
      "text/plain": [
       "tensor([ 0.4567,  2.3679,  4.9064, -6.6401, -2.7932])"
      ]
     },
     "execution_count": 28,
     "metadata": {},
     "output_type": "execute_result"
    }
   ],
   "source": [
    "torch.normal(mean=0.5, std=torch.arange(1., 6.))  # 均值相同，按不同的标准差生成5个数，也可共享std，不同mean"
   ]
  },
  {
   "cell_type": "code",
   "execution_count": 29,
   "id": "d01f981f",
   "metadata": {},
   "outputs": [
    {
     "data": {
      "text/plain": [
       "tensor([[4.3416, 0.6485, 2.8688, 3.2339]])"
      ]
     },
     "execution_count": 29,
     "metadata": {},
     "output_type": "execute_result"
    }
   ],
   "source": [
    "torch.normal(2, 3, size=(1, 4)) #四个元素均为mean为2，std为3"
   ]
  },
  {
   "cell_type": "markdown",
   "id": "c5e4fc2d",
   "metadata": {},
   "source": [
    "***torch.rand(*size, *, out=None, dtype=None, layout=torch.strided, device=None, requires_grad=False) → Tensor***\n",
    "- Returns a tensor filled with random numbers from a uniform distribution on the interval [0, 1)  \n",
    "- The shape of the tensor is defined by the variable argument size."
   ]
  },
  {
   "cell_type": "code",
   "execution_count": 30,
   "id": "88e36f0a",
   "metadata": {},
   "outputs": [
    {
     "data": {
      "text/plain": [
       "tensor([[0.8935, 0.2138, 0.9452],\n",
       "        [0.1513, 0.7215, 0.8698]])"
      ]
     },
     "execution_count": 30,
     "metadata": {},
     "output_type": "execute_result"
    }
   ],
   "source": [
    "torch.rand(2, 3)   # rand从[0,1)中均匀抽取浮点数"
   ]
  },
  {
   "cell_type": "code",
   "execution_count": 31,
   "id": "9a56499f",
   "metadata": {},
   "outputs": [
    {
     "name": "stdout",
     "output_type": "stream",
     "text": [
      "tensor([4, 3, 4])\n"
     ]
    },
    {
     "data": {
      "text/plain": [
       "tensor([[3, 4],\n",
       "        [5, 1]])"
      ]
     },
     "execution_count": 31,
     "metadata": {},
     "output_type": "execute_result"
    }
   ],
   "source": [
    "print(torch.randint(3, 5, (3,)))  #前两个数字为下上界，若仅一个数则为上界，仅返回整形\n",
    "torch.randint(10, (2, 2))"
   ]
  },
  {
   "cell_type": "code",
   "execution_count": 32,
   "id": "ba1c5138",
   "metadata": {},
   "outputs": [
    {
     "data": {
      "text/plain": [
       "tensor([[-0.1902, -0.6669,  0.2939],\n",
       "        [-0.3962,  1.3867, -0.2899]])"
      ]
     },
     "execution_count": 32,
     "metadata": {},
     "output_type": "execute_result"
    }
   ],
   "source": [
    "torch.randn(2, 3)  # randn为均值为0，标准差为1的正态分布"
   ]
  },
  {
   "cell_type": "code",
   "execution_count": 33,
   "id": "7a8c36d1",
   "metadata": {},
   "outputs": [
    {
     "data": {
      "text/plain": [
       "tensor([1, 3, 2, 0])"
      ]
     },
     "execution_count": 33,
     "metadata": {},
     "output_type": "execute_result"
    }
   ],
   "source": [
    "torch.randperm(4) #0到n-1随机组合，可用于生成随机索引"
   ]
  }
 ],
 "metadata": {
  "kernelspec": {
   "display_name": "Python 3",
   "language": "python",
   "name": "python3"
  },
  "language_info": {
   "codemirror_mode": {
    "name": "ipython",
    "version": 3
   },
   "file_extension": ".py",
   "mimetype": "text/x-python",
   "name": "python",
   "nbconvert_exporter": "python",
   "pygments_lexer": "ipython3",
   "version": "3.6.13"
  }
 },
 "nbformat": 4,
 "nbformat_minor": 5
}
