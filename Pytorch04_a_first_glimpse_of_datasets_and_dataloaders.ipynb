{
 "cells": [
  {
   "cell_type": "markdown",
   "id": "a88dc89f",
   "metadata": {},
   "source": [
    "# DATASETS & DATALOADERS\n",
    "Code for processing data samples can get messy and hard to maintain; we ideally want our dataset code to be decoupled from our model training code for better readability and modularity. PyTorch provides two data primitives: **torch.utils.data.DataLoader** and **torch.utils.data.** that allow you to use pre-loaded datasets as well as your own data. Dataset stores the samples and their corresponding labels, and DataLoader wraps an iterable around the Dataset to enable easy access to the samples.  \n",
    "PyTorch domain libraries provide a number of pre-loaded datasets (such as FashionMNIST) that subclass **torch.utils.data.Dataset** and implement functions specific to the particular data. They can be used to prototype and benchmark your model."
   ]
  },
  {
   "cell_type": "markdown",
   "id": "2ba1fe09",
   "metadata": {},
   "source": [
    "## Loading a Dataset\n",
    "Here is an example of how to load the **Fashion-MNIST** dataset from TorchVision. Fashion-MNIST is a dataset of Zalando’s article images consisting of 60,000 training examples and 10,000 test examples. Each example comprises a 28×28 grayscale image and an associated label from one of 10 classes.  \n",
    "We load the FashionMNIST Dataset with the following parameters:  \n",
    "- ***root*** is the path where the train/test data is stored,\n",
    "- ***train*** specifies training or test dataset,\n",
    "- ***download=True*** downloads the data from the internet if it’s not available at root.\n",
    "- ***transform*** and ***target_transform*** specify the feature and label transformations"
   ]
  },
  {
   "cell_type": "code",
   "execution_count": 1,
   "id": "82364f0d",
   "metadata": {},
   "outputs": [],
   "source": [
    "import torch\n",
    "from torch.utils.data import Dataset\n",
    "from torchvision import datasets\n",
    "from torchvision.transforms import ToTensor\n",
    "import matplotlib.pyplot as plt\n",
    "\n",
    "\n",
    "training_data = datasets.FashionMNIST(\n",
    "    root=\"data\",\n",
    "    train=True,\n",
    "    download=True,\n",
    "    transform=ToTensor()\n",
    ")\n",
    "\n",
    "test_data = datasets.FashionMNIST(\n",
    "    root=\"data\",\n",
    "    train=False,\n",
    "    download=True,\n",
    "    transform=ToTensor()\n",
    ")"
   ]
  },
  {
   "cell_type": "markdown",
   "id": "0e807561",
   "metadata": {},
   "source": [
    "## Iterating and Visualizing the Dataset\n",
    "We can index **Datasets** manually like a list: **training_data[index]**. We use **matplotlib** to visualize some samples in our training data."
   ]
  },
  {
   "cell_type": "code",
   "execution_count": 2,
   "id": "3b5e8450",
   "metadata": {},
   "outputs": [
    {
     "data": {
      "image/png": "[encoded data removed]",
      "text/plain": [
       "<Figure size 576x576 with 9 Axes>"
      ]
     },
     "metadata": {
      "needs_background": "light"
     },
     "output_type": "display_data"
    }
   ],
   "source": [
    "labels_map = {\n",
    "    0: \"T-Shirt\",\n",
    "    1: \"Trouser\",\n",
    "    2: \"Pullover\",\n",
    "    3: \"Dress\",\n",
    "    4: \"Coat\",\n",
    "    5: \"Sandal\",\n",
    "    6: \"Shirt\",\n",
    "    7: \"Sneaker\",\n",
    "    8: \"Bag\",\n",
    "    9: \"Ankle Boot\",\n",
    "}\n",
    "figure = plt.figure(figsize=(8, 8))\n",
    "cols, rows = 3, 3\n",
    "for i in range(1, cols * rows + 1):\n",
    "    sample_idx = torch.randint(len(training_data), size=(1,)).item() # 从训练样本序列中抽出一个1*1的tensor并取出该数\n",
    "    img, label = training_data[sample_idx]\n",
    "    figure.add_subplot(rows, cols, i)\n",
    "    plt.title(labels_map[label])\n",
    "    plt.axis(\"off\")\n",
    "    plt.imshow(img.squeeze(), cmap=\"gray\") #img形状为1*28*28，有channel的维度，要把这个维度squeeze掉，cmap设置灰度显示\n",
    "plt.show()"
   ]
  },
  {
   "cell_type": "markdown",
   "id": "e57d2b6d",
   "metadata": {},
   "source": [
    "## Creating a Custom Dataset（自定义数据集） for your files\n",
    "A custom Dataset class must implement three functions: ***\\_\\_init__***, ***\\_\\_len__***, and ***\\_\\_getitem__***. Take a look at this implementation; the FashionMNIST images are stored in a directory , and their labels are stored separately in a CSV file .**img_dirannotations_file**  \n",
    "\n",
    "In the next sections, we’ll break down what’s happening in each of these functions."
   ]
  },
  {
   "cell_type": "code",
   "execution_count": 3,
   "id": "d417fc92",
   "metadata": {},
   "outputs": [],
   "source": [
    "import os\n",
    "import pandas as pd\n",
    "from torchvision.io import read_image\n",
    "\n",
    "class CustomImageDataset(Dataset):\n",
    "    def __init__(self, annotations_file, img_dir, transform=None, target_transform=None):    # 传入路径等\n",
    "        self.img_labels = pd.read_csv(annotations_file)   # 本例中annotations_file（注释文件）为csv文件，可用pandas读取\n",
    "        self.img_dir = img_dir   # 存储照片的路径\n",
    "        self.transform = transform\n",
    "        self.target_transform = target_transform\n",
    "\n",
    "    def __len__(self):\n",
    "        return len(self.img_labels) # 数据集总大小\n",
    "\n",
    "    def __getitem__(self, idx):\n",
    "        img_path = os.path.join(self.img_dir, self.img_labels.iloc[idx, 0])   # img_labels的第idx行，第0列\n",
    "        image = read_image(img_path)\n",
    "        label = self.img_labels.iloc[idx, 1]\n",
    "        if self.transform:\n",
    "            image = self.transform(image) # 对image进行相应变换（归一化等）\n",
    "        if self.target_transform:\n",
    "            label = self.target_transform(label) #对label进行相应变换\n",
    "        return image, label"
   ]
  },
  {
   "cell_type": "markdown",
   "id": "d2a5f884",
   "metadata": {},
   "source": [
    "### \\_\\_init__\n",
    "The **\\_\\_init__** function is run once when instantiating the Dataset object. We initialize the directory containing the images, the annotations file, and both transforms (covered in more detail in the next section).  \n",
    "\n",
    "The labels.csv file looks like:"
   ]
  },
  {
   "cell_type": "raw",
   "id": "fbac4c9e",
   "metadata": {},
   "source": [
    "tshirt1.jpg, 0  # 第0列指代的是图片路径，第1列指代\n",
    "tshirt2.jpg, 0\n",
    "......\n",
    "ankleboot999.jpg, 9"
   ]
  },
  {
   "cell_type": "code",
   "execution_count": 4,
   "id": "b28f12c7",
   "metadata": {},
   "outputs": [],
   "source": [
    "def __init__(self, annotations_file, img_dir, transform=None, target_transform=None):\n",
    "    self.img_labels = pd.read_csv(annotations_file)\n",
    "    self.img_dir = img_dir\n",
    "    self.transform = transform\n",
    "    self.target_transform = target_transform"
   ]
  },
  {
   "cell_type": "markdown",
   "id": "7726026f",
   "metadata": {},
   "source": [
    "### \\_\\_len__\n",
    "The **\\_\\_len__** function returns the number of samples in our dataset.  \n",
    "\n",
    "Example:"
   ]
  },
  {
   "cell_type": "code",
   "execution_count": 5,
   "id": "1db1f8db",
   "metadata": {},
   "outputs": [],
   "source": [
    "def __len__(self):\n",
    "    return len(self.img_labels)"
   ]
  },
  {
   "cell_type": "markdown",
   "id": "0a7e9d01",
   "metadata": {},
   "source": [
    "### \\_\\_getitem__\n",
    "The **\\_\\_getitem__** function loads and returns a sample from the dataset at the given index ***idx***. Based on the index, it identifies the image’s location on disk, converts that to a tensor using ***read_image***, retrieves the corresponding label from the csv data in ***self.img_labels***, calls the transform functions on them (if applicable), and returns the tensor image and corresponding label in a tuple."
   ]
  },
  {
   "cell_type": "code",
   "execution_count": 6,
   "id": "6990b0ff",
   "metadata": {},
   "outputs": [],
   "source": [
    "def __getitem__(self, idx):\n",
    "    img_path = os.path.join(self.img_dir, self.img_labels.iloc[idx, 0])\n",
    "    image = read_image(img_path)\n",
    "    label = self.img_labels.iloc[idx, 1]\n",
    "    if self.transform:\n",
    "        image = self.transform(image)\n",
    "    if self.target_transform:\n",
    "        label = self.target_transform(label)\n",
    "    return image, label"
   ]
  },
  {
   "cell_type": "markdown",
   "id": "1d6cb9ed",
   "metadata": {},
   "source": [
    "## Preparing your data for training with DataLoaders\n",
    "The ***Dataset*** retrieves our dataset’s features and labels one sample at a time. While training a model, we typically want to pass samples in “minibatches”, reshuffle the data at every epoch to reduce model overfitting, and use Python’s ***multiprocessing*** to speed up data retrieval.  \n",
    "\n",
    "***DataLoader*** is an iterable that abstracts this complexity for us in an easy API."
   ]
  },
  {
   "cell_type": "code",
   "execution_count": 7,
   "id": "c07527a6",
   "metadata": {},
   "outputs": [],
   "source": [
    "from torch.utils.data import DataLoader\n",
    "\n",
    "train_dataloader = DataLoader(training_data, batch_size=64, shuffle=True)\n",
    "test_dataloader = DataLoader(test_data, batch_size=64, shuffle=True) # test实际上不用shuffle"
   ]
  },
  {
   "cell_type": "markdown",
   "id": "ba1a7c23",
   "metadata": {},
   "source": [
    "## Iterate through the DataLoader\n",
    "We have loaded that dataset into the ***DataLoader*** and can iterate through the dataset as needed. Each iteration below returns a batch of ***train_features*** and ***train_labels*** (containing ***batch_size=64*** features and labels respectively). Because we specified ***shuffle=True***, after we iterate over all batches the data is shuffled (for finer-grained control over the data loading order, take a look at Samplers)."
   ]
  },
  {
   "cell_type": "code",
   "execution_count": 8,
   "id": "cf3e0f95",
   "metadata": {},
   "outputs": [
    {
     "name": "stdout",
     "output_type": "stream",
     "text": [
      "Feature batch shape: torch.Size([64, 1, 28, 28])\n",
      "Labels batch shape: torch.Size([64])\n"
     ]
    },
    {
     "data": {
      "image/png": "[encoded data removed]",
      "text/plain": [
       "<Figure size 432x288 with 1 Axes>"
      ]
     },
     "metadata": {
      "needs_background": "light"
     },
     "output_type": "display_data"
    },
    {
     "name": "stdout",
     "output_type": "stream",
     "text": [
      "Label: 4\n"
     ]
    }
   ],
   "source": [
    "# Display image and label.\n",
    "train_features, train_labels = next(iter(train_dataloader)) # iter把dataloader转换成可迭代的对象，可迭代的对象可以用next方法\n",
    "print(f\"Feature batch shape: {train_features.size()}\")\n",
    "print(f\"Labels batch shape: {train_labels.size()}\")\n",
    "img = train_features[0].squeeze()\n",
    "label = train_labels[0]\n",
    "plt.imshow(img, cmap=\"gray\")\n",
    "plt.show()\n",
    "print(f\"Label: {label}\")"
   ]
  }
 ],
 "metadata": {
  "kernelspec": {
   "display_name": "Python 3",
   "language": "python",
   "name": "python3"
  },
  "language_info": {
   "codemirror_mode": {
    "name": "ipython",
    "version": 3
   },
   "file_extension": ".py",
   "mimetype": "text/x-python",
   "name": "python",
   "nbconvert_exporter": "python",
   "pygments_lexer": "ipython3",
   "version": "3.6.13"
  }
 },
 "nbformat": 4,
 "nbformat_minor": 5
}
